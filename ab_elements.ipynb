{
 "cells": [
  {
   "cell_type": "code",
   "execution_count": 23,
   "metadata": {
    "collapsed": true
   },
   "outputs": [
    {
     "name": "stdout",
     "output_type": "stream",
     "text": [
      "14 distinkte Einträge\n",
      "Es existieren Funde zu 14 verschiedenen Knochentypen: \n"
     ]
    },
    {
     "data": {
      "text/plain": "ELEMENT\nAstragalus        229\nCalcaneum          46\nFemur             108\nFirst phalanx     540\nHumerus           208\nMandible            4\nMetacarpal        455\nMetatarsal        537\nPelvis             58\nRadius            367\nScapula           198\nSecond phalanx      4\nTibia             335\nUlna               10\ndtype: int64"
     },
     "execution_count": 23,
     "metadata": {},
     "output_type": "execute_result"
    }
   ],
   "source": [
    "import utils.load_write as lw\n",
    "import utils.datastructure_operations as dataops\n",
    "\n",
    "df = lw.load_csv(\"data/csv/abmap_horse.csv\")\n",
    "\n",
    "element_groups = df.groupby(\"ELEMENT\")\n",
    "#print(df.ELEMENT.nunique(), \"distinkte Einträge\")\n",
    "print(\"Es existieren Funde zu\", element_groups.ngroups, \"verschiedenen Knochentypen: \")\n",
    "element_groups.size()\n"
   ]
  },
  {
   "cell_type": "code",
   "execution_count": 24,
   "outputs": [
    {
     "data": {
      "text/plain": "ELEMENT\nAstragalus        229\nCalcaneum          46\nFemur             108\nFirst phalanx     540\nHumerus           208\nMandible            4\nMetacarpal        455\nMetatarsal        537\nPelvis             58\nRadius            367\nScapula           198\nSecond phalanx      4\nTibia             335\nUlna               10\ndtype: int64"
     },
     "execution_count": 24,
     "metadata": {},
     "output_type": "execute_result"
    }
   ],
   "source": [
    "element_measures = element_groups[[\"MEASURE\"]]\n",
    "element_measures.size()"
   ],
   "metadata": {
    "collapsed": false
   }
  },
  {
   "cell_type": "code",
   "execution_count": 25,
   "outputs": [
    {
     "data": {
      "text/plain": "                   MEASURE\nELEMENT                   \nAstragalus        5.152179\nCalcaneum        27.864344\nFemur           118.362628\nFirst phalanx    17.217948\nHumerus          60.871668\nMandible          9.767762\nMetacarpal       74.571843\nMetatarsal       90.667968\nPelvis           18.351385\nRadius          101.088801\nScapula          15.886930\nSecond phalanx    3.388707\nTibia           101.197276\nUlna             10.613330",
      "text/html": "<div>\n<style scoped>\n    .dataframe tbody tr th:only-of-type {\n        vertical-align: middle;\n    }\n\n    .dataframe tbody tr th {\n        vertical-align: top;\n    }\n\n    .dataframe thead th {\n        text-align: right;\n    }\n</style>\n<table border=\"1\" class=\"dataframe\">\n  <thead>\n    <tr style=\"text-align: right;\">\n      <th></th>\n      <th>MEASURE</th>\n    </tr>\n    <tr>\n      <th>ELEMENT</th>\n      <th></th>\n    </tr>\n  </thead>\n  <tbody>\n    <tr>\n      <th>Astragalus</th>\n      <td>5.152179</td>\n    </tr>\n    <tr>\n      <th>Calcaneum</th>\n      <td>27.864344</td>\n    </tr>\n    <tr>\n      <th>Femur</th>\n      <td>118.362628</td>\n    </tr>\n    <tr>\n      <th>First phalanx</th>\n      <td>17.217948</td>\n    </tr>\n    <tr>\n      <th>Humerus</th>\n      <td>60.871668</td>\n    </tr>\n    <tr>\n      <th>Mandible</th>\n      <td>9.767762</td>\n    </tr>\n    <tr>\n      <th>Metacarpal</th>\n      <td>74.571843</td>\n    </tr>\n    <tr>\n      <th>Metatarsal</th>\n      <td>90.667968</td>\n    </tr>\n    <tr>\n      <th>Pelvis</th>\n      <td>18.351385</td>\n    </tr>\n    <tr>\n      <th>Radius</th>\n      <td>101.088801</td>\n    </tr>\n    <tr>\n      <th>Scapula</th>\n      <td>15.886930</td>\n    </tr>\n    <tr>\n      <th>Second phalanx</th>\n      <td>3.388707</td>\n    </tr>\n    <tr>\n      <th>Tibia</th>\n      <td>101.197276</td>\n    </tr>\n    <tr>\n      <th>Ulna</th>\n      <td>10.613330</td>\n    </tr>\n  </tbody>\n</table>\n</div>"
     },
     "execution_count": 25,
     "metadata": {},
     "output_type": "execute_result"
    }
   ],
   "source": [
    "element_measures.std()"
   ],
   "metadata": {
    "collapsed": false
   }
  },
  {
   "cell_type": "code",
   "execution_count": 26,
   "outputs": [
    {
     "data": {
      "text/plain": "                     MEASURE\nELEMENT                     \nAstragalus         26.544948\nCalcaneum         776.421647\nFemur           14009.711745\nFirst phalanx     296.457730\nHumerus          3705.360011\nMandible           95.409167\nMetacarpal       5560.959803\nMetatarsal       8220.680380\nPelvis            336.773336\nRadius          10218.945668\nScapula           252.394548\nSecond phalanx     11.483333\nTibia           10240.888569\nUlna              112.642778",
      "text/html": "<div>\n<style scoped>\n    .dataframe tbody tr th:only-of-type {\n        vertical-align: middle;\n    }\n\n    .dataframe tbody tr th {\n        vertical-align: top;\n    }\n\n    .dataframe thead th {\n        text-align: right;\n    }\n</style>\n<table border=\"1\" class=\"dataframe\">\n  <thead>\n    <tr style=\"text-align: right;\">\n      <th></th>\n      <th>MEASURE</th>\n    </tr>\n    <tr>\n      <th>ELEMENT</th>\n      <th></th>\n    </tr>\n  </thead>\n  <tbody>\n    <tr>\n      <th>Astragalus</th>\n      <td>26.544948</td>\n    </tr>\n    <tr>\n      <th>Calcaneum</th>\n      <td>776.421647</td>\n    </tr>\n    <tr>\n      <th>Femur</th>\n      <td>14009.711745</td>\n    </tr>\n    <tr>\n      <th>First phalanx</th>\n      <td>296.457730</td>\n    </tr>\n    <tr>\n      <th>Humerus</th>\n      <td>3705.360011</td>\n    </tr>\n    <tr>\n      <th>Mandible</th>\n      <td>95.409167</td>\n    </tr>\n    <tr>\n      <th>Metacarpal</th>\n      <td>5560.959803</td>\n    </tr>\n    <tr>\n      <th>Metatarsal</th>\n      <td>8220.680380</td>\n    </tr>\n    <tr>\n      <th>Pelvis</th>\n      <td>336.773336</td>\n    </tr>\n    <tr>\n      <th>Radius</th>\n      <td>10218.945668</td>\n    </tr>\n    <tr>\n      <th>Scapula</th>\n      <td>252.394548</td>\n    </tr>\n    <tr>\n      <th>Second phalanx</th>\n      <td>11.483333</td>\n    </tr>\n    <tr>\n      <th>Tibia</th>\n      <td>10240.888569</td>\n    </tr>\n    <tr>\n      <th>Ulna</th>\n      <td>112.642778</td>\n    </tr>\n  </tbody>\n</table>\n</div>"
     },
     "execution_count": 26,
     "metadata": {},
     "output_type": "execute_result"
    }
   ],
   "source": [
    "element_measures.var()"
   ],
   "metadata": {
    "collapsed": false
   }
  },
  {
   "cell_type": "code",
   "execution_count": 27,
   "outputs": [
    {
     "data": {
      "text/plain": "                   MEASURE\nELEMENT                   \nAstragalus       53.424891\nCalcaneum        75.854348\nFemur           127.794444\nFirst phalanx    48.205000\nHumerus          81.630481\nMandible         23.325000\nMetacarpal       81.929451\nMetatarsal       90.311918\nPelvis           53.529310\nRadius          114.174659\nScapula          59.271212\nSecond phalanx   41.950000\nTibia           102.409433\nUlna             50.250000",
      "text/html": "<div>\n<style scoped>\n    .dataframe tbody tr th:only-of-type {\n        vertical-align: middle;\n    }\n\n    .dataframe tbody tr th {\n        vertical-align: top;\n    }\n\n    .dataframe thead th {\n        text-align: right;\n    }\n</style>\n<table border=\"1\" class=\"dataframe\">\n  <thead>\n    <tr style=\"text-align: right;\">\n      <th></th>\n      <th>MEASURE</th>\n    </tr>\n    <tr>\n      <th>ELEMENT</th>\n      <th></th>\n    </tr>\n  </thead>\n  <tbody>\n    <tr>\n      <th>Astragalus</th>\n      <td>53.424891</td>\n    </tr>\n    <tr>\n      <th>Calcaneum</th>\n      <td>75.854348</td>\n    </tr>\n    <tr>\n      <th>Femur</th>\n      <td>127.794444</td>\n    </tr>\n    <tr>\n      <th>First phalanx</th>\n      <td>48.205000</td>\n    </tr>\n    <tr>\n      <th>Humerus</th>\n      <td>81.630481</td>\n    </tr>\n    <tr>\n      <th>Mandible</th>\n      <td>23.325000</td>\n    </tr>\n    <tr>\n      <th>Metacarpal</th>\n      <td>81.929451</td>\n    </tr>\n    <tr>\n      <th>Metatarsal</th>\n      <td>90.311918</td>\n    </tr>\n    <tr>\n      <th>Pelvis</th>\n      <td>53.529310</td>\n    </tr>\n    <tr>\n      <th>Radius</th>\n      <td>114.174659</td>\n    </tr>\n    <tr>\n      <th>Scapula</th>\n      <td>59.271212</td>\n    </tr>\n    <tr>\n      <th>Second phalanx</th>\n      <td>41.950000</td>\n    </tr>\n    <tr>\n      <th>Tibia</th>\n      <td>102.409433</td>\n    </tr>\n    <tr>\n      <th>Ulna</th>\n      <td>50.250000</td>\n    </tr>\n  </tbody>\n</table>\n</div>"
     },
     "execution_count": 27,
     "metadata": {},
     "output_type": "execute_result"
    }
   ],
   "source": [
    "element_measures.mean()"
   ],
   "metadata": {
    "collapsed": false
   }
  },
  {
   "cell_type": "code",
   "execution_count": 28,
   "outputs": [
    {
     "data": {
      "text/plain": "                MEASURE\nELEMENT                \nAstragalus        53.90\nCalcaneum         56.35\nFemur             79.40\nFirst phalanx     43.25\nHumerus           69.05\nMandible          23.65\nMetacarpal        44.60\nMetatarsal        44.80\nPelvis            56.10\nRadius            69.50\nScapula           54.40\nSecond phalanx    41.05\nTibia             63.20\nUlna              50.20",
      "text/html": "<div>\n<style scoped>\n    .dataframe tbody tr th:only-of-type {\n        vertical-align: middle;\n    }\n\n    .dataframe tbody tr th {\n        vertical-align: top;\n    }\n\n    .dataframe thead th {\n        text-align: right;\n    }\n</style>\n<table border=\"1\" class=\"dataframe\">\n  <thead>\n    <tr style=\"text-align: right;\">\n      <th></th>\n      <th>MEASURE</th>\n    </tr>\n    <tr>\n      <th>ELEMENT</th>\n      <th></th>\n    </tr>\n  </thead>\n  <tbody>\n    <tr>\n      <th>Astragalus</th>\n      <td>53.90</td>\n    </tr>\n    <tr>\n      <th>Calcaneum</th>\n      <td>56.35</td>\n    </tr>\n    <tr>\n      <th>Femur</th>\n      <td>79.40</td>\n    </tr>\n    <tr>\n      <th>First phalanx</th>\n      <td>43.25</td>\n    </tr>\n    <tr>\n      <th>Humerus</th>\n      <td>69.05</td>\n    </tr>\n    <tr>\n      <th>Mandible</th>\n      <td>23.65</td>\n    </tr>\n    <tr>\n      <th>Metacarpal</th>\n      <td>44.60</td>\n    </tr>\n    <tr>\n      <th>Metatarsal</th>\n      <td>44.80</td>\n    </tr>\n    <tr>\n      <th>Pelvis</th>\n      <td>56.10</td>\n    </tr>\n    <tr>\n      <th>Radius</th>\n      <td>69.50</td>\n    </tr>\n    <tr>\n      <th>Scapula</th>\n      <td>54.40</td>\n    </tr>\n    <tr>\n      <th>Second phalanx</th>\n      <td>41.05</td>\n    </tr>\n    <tr>\n      <th>Tibia</th>\n      <td>63.20</td>\n    </tr>\n    <tr>\n      <th>Ulna</th>\n      <td>50.20</td>\n    </tr>\n  </tbody>\n</table>\n</div>"
     },
     "execution_count": 28,
     "metadata": {},
     "output_type": "execute_result"
    }
   ],
   "source": [
    "element_measures.median()"
   ],
   "metadata": {
    "collapsed": false
   }
  },
  {
   "cell_type": "code",
   "execution_count": 30,
   "outputs": [
    {
     "data": {
      "text/plain": "                MEASURE\nELEMENT                \nAstragalus         66.2\nCalcaneum         117.6\nFemur             450.0\nFirst phalanx      93.2\nHumerus           318.0\nMandible           33.0\nMetacarpal        271.0\nMetatarsal        300.6\nPelvis            127.0\nRadius            439.0\nScapula           104.5\nSecond phalanx     46.8\nTibia             388.0\nUlna               65.2",
      "text/html": "<div>\n<style scoped>\n    .dataframe tbody tr th:only-of-type {\n        vertical-align: middle;\n    }\n\n    .dataframe tbody tr th {\n        vertical-align: top;\n    }\n\n    .dataframe thead th {\n        text-align: right;\n    }\n</style>\n<table border=\"1\" class=\"dataframe\">\n  <thead>\n    <tr style=\"text-align: right;\">\n      <th></th>\n      <th>MEASURE</th>\n    </tr>\n    <tr>\n      <th>ELEMENT</th>\n      <th></th>\n    </tr>\n  </thead>\n  <tbody>\n    <tr>\n      <th>Astragalus</th>\n      <td>66.2</td>\n    </tr>\n    <tr>\n      <th>Calcaneum</th>\n      <td>117.6</td>\n    </tr>\n    <tr>\n      <th>Femur</th>\n      <td>450.0</td>\n    </tr>\n    <tr>\n      <th>First phalanx</th>\n      <td>93.2</td>\n    </tr>\n    <tr>\n      <th>Humerus</th>\n      <td>318.0</td>\n    </tr>\n    <tr>\n      <th>Mandible</th>\n      <td>33.0</td>\n    </tr>\n    <tr>\n      <th>Metacarpal</th>\n      <td>271.0</td>\n    </tr>\n    <tr>\n      <th>Metatarsal</th>\n      <td>300.6</td>\n    </tr>\n    <tr>\n      <th>Pelvis</th>\n      <td>127.0</td>\n    </tr>\n    <tr>\n      <th>Radius</th>\n      <td>439.0</td>\n    </tr>\n    <tr>\n      <th>Scapula</th>\n      <td>104.5</td>\n    </tr>\n    <tr>\n      <th>Second phalanx</th>\n      <td>46.8</td>\n    </tr>\n    <tr>\n      <th>Tibia</th>\n      <td>388.0</td>\n    </tr>\n    <tr>\n      <th>Ulna</th>\n      <td>65.2</td>\n    </tr>\n  </tbody>\n</table>\n</div>"
     },
     "execution_count": 30,
     "metadata": {},
     "output_type": "execute_result"
    }
   ],
   "source": [
    "element_measures.max()"
   ],
   "metadata": {
    "collapsed": false
   }
  },
  {
   "cell_type": "code",
   "execution_count": 31,
   "outputs": [
    {
     "data": {
      "text/plain": "                MEASURE\nELEMENT                \nAstragalus         40.4\nCalcaneum          34.0\nFemur              31.9\nFirst phalanx      21.6\nHumerus            27.0\nMandible           13.0\nMetacarpal         16.1\nMetatarsal         20.4\nPelvis             20.6\nRadius             29.0\nScapula            35.6\nSecond phalanx     38.9\nTibia              31.1\nUlna               36.0",
      "text/html": "<div>\n<style scoped>\n    .dataframe tbody tr th:only-of-type {\n        vertical-align: middle;\n    }\n\n    .dataframe tbody tr th {\n        vertical-align: top;\n    }\n\n    .dataframe thead th {\n        text-align: right;\n    }\n</style>\n<table border=\"1\" class=\"dataframe\">\n  <thead>\n    <tr style=\"text-align: right;\">\n      <th></th>\n      <th>MEASURE</th>\n    </tr>\n    <tr>\n      <th>ELEMENT</th>\n      <th></th>\n    </tr>\n  </thead>\n  <tbody>\n    <tr>\n      <th>Astragalus</th>\n      <td>40.4</td>\n    </tr>\n    <tr>\n      <th>Calcaneum</th>\n      <td>34.0</td>\n    </tr>\n    <tr>\n      <th>Femur</th>\n      <td>31.9</td>\n    </tr>\n    <tr>\n      <th>First phalanx</th>\n      <td>21.6</td>\n    </tr>\n    <tr>\n      <th>Humerus</th>\n      <td>27.0</td>\n    </tr>\n    <tr>\n      <th>Mandible</th>\n      <td>13.0</td>\n    </tr>\n    <tr>\n      <th>Metacarpal</th>\n      <td>16.1</td>\n    </tr>\n    <tr>\n      <th>Metatarsal</th>\n      <td>20.4</td>\n    </tr>\n    <tr>\n      <th>Pelvis</th>\n      <td>20.6</td>\n    </tr>\n    <tr>\n      <th>Radius</th>\n      <td>29.0</td>\n    </tr>\n    <tr>\n      <th>Scapula</th>\n      <td>35.6</td>\n    </tr>\n    <tr>\n      <th>Second phalanx</th>\n      <td>38.9</td>\n    </tr>\n    <tr>\n      <th>Tibia</th>\n      <td>31.1</td>\n    </tr>\n    <tr>\n      <th>Ulna</th>\n      <td>36.0</td>\n    </tr>\n  </tbody>\n</table>\n</div>"
     },
     "execution_count": 31,
     "metadata": {},
     "output_type": "execute_result"
    }
   ],
   "source": [
    "element_measures.min()"
   ],
   "metadata": {
    "collapsed": false
   }
  },
  {
   "cell_type": "code",
   "execution_count": null,
   "outputs": [],
   "source": [
    "import utils.plotting as plt\n",
    "\n",
    "elements, amounts = dataops.split_dictionary(element_groups)\n",
    "plt.simple_pie_chart(amounts, labels=elements)\n",
    "#plt.simple_bar_chart(bone_elements.keys(), bone_elements.values())"
   ],
   "metadata": {
    "collapsed": false
   }
  }
 ],
 "metadata": {
  "kernelspec": {
   "display_name": "Python 3",
   "language": "python",
   "name": "python3"
  },
  "language_info": {
   "codemirror_mode": {
    "name": "ipython",
    "version": 2
   },
   "file_extension": ".py",
   "mimetype": "text/x-python",
   "name": "python",
   "nbconvert_exporter": "python",
   "pygments_lexer": "ipython2",
   "version": "2.7.6"
  }
 },
 "nbformat": 4,
 "nbformat_minor": 0
}
