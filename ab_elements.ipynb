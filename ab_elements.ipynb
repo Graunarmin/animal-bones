{
 "cells": [
  {
   "cell_type": "markdown",
   "source": [
    "# Knochentypen"
   ],
   "metadata": {
    "collapsed": false
   }
  },
  {
   "cell_type": "markdown",
   "source": [
    "Zuerst gruppieren wir die Daten nach Knochentyp, weil wir nur innerhalb dieser Gruppen valide Vergleiche machen können."
   ],
   "metadata": {
    "collapsed": false
   }
  },
  {
   "cell_type": "code",
   "execution_count": 1,
   "metadata": {
    "collapsed": true
   },
   "outputs": [
    {
     "name": "stdout",
     "output_type": "stream",
     "text": [
      "Es existieren Funde zu 14 verschiedenen Knochentypen.\n"
     ]
    },
    {
     "data": {
      "text/plain": "['Astragalus',\n 'Calcaneum',\n 'Femur',\n 'First phalanx',\n 'Humerus',\n 'Mandible',\n 'Metacarpal',\n 'Metatarsal',\n 'Pelvis',\n 'Radius',\n 'Scapula',\n 'Second phalanx',\n 'Tibia',\n 'Ulna']"
     },
     "execution_count": 1,
     "metadata": {},
     "output_type": "execute_result"
    }
   ],
   "source": [
    "import utils.load_write as lw\n",
    "import utils.datastructure_operations as dataops\n",
    "\n",
    "df_horse = lw.load_csv(\"data/csv/abmap_horse.csv\")\n",
    "\n",
    "element_grp = df_horse.groupby(['ELEMENT'])\n",
    "#print(df.ELEMENT.nunique(), \"distinkte Einträge\")\n",
    "print(\"Es existieren Funde zu\", element_grp.ngroups, \"verschiedenen Knochentypen.\")\n",
    "list(element_grp.groups.keys())"
   ]
  },
  {
   "cell_type": "markdown",
   "source": [
    "Nun aktualisieren wir für jeden Datenpunkt die jeweilige Datierung (Periode), sodass wir nur noch mit den vier zuvor festgelegten, gröberen Perioden arbeiten. Dann zählen wir, aus wie vielen dieser Perioden für jeden Typ Funde vorliegen, denn wenn nur Funde aus einer Periode vorliegen, eignet sich der entsprechende Knochentyp natürlich nicht für einen Vergleich über die Zeit.\n",
    "Außerdem zählen wir, wie viele verschiedene Knochen jeweils gefunden wurden und wie viele Messungen pro Typ gemacht wurden, denn auch hier gilt: Zu wenige Daten liefern keine aussagekräftigen Ergebnisse."
   ],
   "metadata": {
    "collapsed": false
   }
  },
  {
   "cell_type": "code",
   "execution_count": 2,
   "outputs": [],
   "source": [
    "import pandas as pd\n",
    "time_ranges_condensed = lw.load_json(\"data/json/time-ranges-condensed.json\")\n",
    "\n",
    "relevant_bone_types = list(element_grp.groups.keys())\n",
    "bone_types_dict = dict()\n",
    "\n",
    "for bone_type in relevant_bone_types:\n",
    "    ''' 'PERIOD' updaten und alle Spalten entfernen, die nicht benötigt werden '''\n",
    "    element_dataframe = dataops.update_period(element_grp.get_group(bone_type), time_ranges_condensed)\n",
    "\n",
    "    ''' save the data for each type to files for better overview '''\n",
    "    #path = \"data/csv/elements/\" + bone_type.lower().replace(\" \",\"_\")\n",
    "    #lw.save_csv(element_dataframe, path + \".csv\")\n",
    "\n",
    "    ''' count the amount of different bones for this type '''\n",
    "    ctr = len(dataops.count_amounts_in_column(element_dataframe, \"BONEID\"))\n",
    "\n",
    "    ''' count the amount of periods for this type '''\n",
    "    periods = len(dataops.count_amounts_in_column(element_dataframe, \"PERIOD\"))\n",
    "\n",
    "    bone_types_dict.update(dataops.bone_type_dict(bone_type, element_dataframe, ctr, periods))"
   ],
   "metadata": {
    "collapsed": false
   }
  },
  {
   "cell_type": "markdown",
   "source": [
    "Die Anzahl der Funde und Messungen pro Knochentyp und auch pro Periode sollen als Barchart abgebildet werden.\n",
    "Zur einfacheren Weiterverarbeitung werden diese Daten daher in Listen gespeichert."
   ],
   "metadata": {
    "collapsed": false
   }
  },
  {
   "cell_type": "code",
   "execution_count": 3,
   "outputs": [
    {
     "name": "stdout",
     "output_type": "stream",
     "text": [
      "Astragalus : 81 Fund(e) und 229 Messungen. Datierungen für 3 Perioden.\n",
      "Calcaneum : 33 Fund(e) und 46 Messungen. Datierungen für 3 Perioden.\n",
      "Femur : 51 Fund(e) und 108 Messungen. Datierungen für 3 Perioden.\n",
      "First phalanx : 134 Fund(e) und 540 Messungen. Datierungen für 3 Perioden.\n",
      "Humerus : 97 Fund(e) und 208 Messungen. Datierungen für 3 Perioden.\n",
      "Mandible : 1 Fund(e) und 4 Messungen. Datierungen für 1 Perioden.\n",
      "- DELETING Mandible  - not enough data\n",
      "Metacarpal : 112 Fund(e) und 455 Messungen. Datierungen für 3 Perioden.\n",
      "Metatarsal : 146 Fund(e) und 537 Messungen. Datierungen für 4 Perioden.\n",
      "Pelvis : 34 Fund(e) und 58 Messungen. Datierungen für 3 Perioden.\n",
      "Radius : 125 Fund(e) und 367 Messungen. Datierungen für 3 Perioden.\n",
      "Scapula : 83 Fund(e) und 198 Messungen. Datierungen für 3 Perioden.\n",
      "Second phalanx : 1 Fund(e) und 4 Messungen. Datierungen für 1 Perioden.\n",
      "- DELETING Second phalanx  - not enough data\n",
      "Tibia : 135 Fund(e) und 335 Messungen. Datierungen für 4 Perioden.\n",
      "Ulna : 5 Fund(e) und 10 Messungen. Datierungen für 2 Perioden.\n",
      "- DELETING Ulna  - not enough data\n"
     ]
    }
   ],
   "source": [
    "''' Lists for barchart data '''\n",
    "bone_amounts = []\n",
    "meas_amounts = []\n",
    "\n",
    "df_bone_types = pd.DataFrame(columns=['BONEID', 'MEASURE', 'MEASTYPE', 'PERIOD', 'RANGE'])\n",
    "\n",
    "for key in list(bone_types_dict.keys()):\n",
    "    bones = bone_types_dict[key][\"bone_amt\"]\n",
    "    bone_amounts.append(bones)\n",
    "    meas = bone_types_dict[key][\"meas_amt\"]\n",
    "    meas_amounts.append(meas)\n",
    "    periods = bone_types_dict[key][\"periods_amt\"]\n",
    "\n",
    "    print(key, \":\", bones, \"Fund(e) und\", meas, \"Messungen. Datierungen für\", periods, \"Perioden.\")\n",
    "\n",
    "    ''' Remove Types that don't have enough data to support any statistics about them '''\n",
    "    if bones < 10 or periods <= 2:\n",
    "        print(\"- DELETING\", key, \" - not enough data\")\n",
    "        del bone_types_dict[key]\n",
    "        relevant_bone_types.remove(key)\n",
    "    else:\n",
    "        df_bone_types = pd.concat([df_bone_types, bone_types_dict[key][\"df\"]])\n",
    "\n",
    "\n",
    "#lw.save_json(relevant_bone_types, \"data/json/relevant-bone-types.json\")"
   ],
   "metadata": {
    "collapsed": false
   }
  },
  {
   "cell_type": "markdown",
   "source": [
    "Die Einträge mit weniger als 10 Funden und/oder weniger als 2 Perioden werden in der weiteren Betrachtung außer Acht gelassen, da sie nicht ausreichend Daten für einen Vergleich liefern. Dies betrifft die Einträge für \"Mandible\", \"Second phalanx\" und \"Ulna\".\n",
    "Die Anzahl an Knochentypen reduziert sich damit von 14 auf 11."
   ],
   "metadata": {
    "collapsed": false
   }
  }
 ],
 "metadata": {
  "kernelspec": {
   "display_name": "Python 3",
   "language": "python",
   "name": "python3"
  },
  "language_info": {
   "codemirror_mode": {
    "name": "ipython",
    "version": 2
   },
   "file_extension": ".py",
   "mimetype": "text/x-python",
   "name": "python",
   "nbconvert_exporter": "python",
   "pygments_lexer": "ipython2",
   "version": "2.7.6"
  }
 },
 "nbformat": 4,
 "nbformat_minor": 0
}
