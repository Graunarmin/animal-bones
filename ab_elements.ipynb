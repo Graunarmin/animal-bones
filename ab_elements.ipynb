{
 "cells": [
  {
   "cell_type": "markdown",
   "source": [
    "# Knochentypen"
   ],
   "metadata": {
    "collapsed": false
   }
  },
  {
   "cell_type": "markdown",
   "source": [
    "Zuerst gruppieren wir die Daten nach Knochentyp, weil wir nur innerhalb dieser Gruppen valide Vergleiche machen können."
   ],
   "metadata": {
    "collapsed": false
   }
  },
  {
   "cell_type": "code",
   "execution_count": 8,
   "metadata": {
    "collapsed": true
   },
   "outputs": [
    {
     "name": "stdout",
     "output_type": "stream",
     "text": [
      "Es existieren Funde zu 14 verschiedenen Knochentypen.\n"
     ]
    },
    {
     "data": {
      "text/plain": "['Astragalus',\n 'Calcaneum',\n 'Femur',\n 'First phalanx',\n 'Humerus',\n 'Mandible',\n 'Metacarpal',\n 'Metatarsal',\n 'Pelvis',\n 'Radius',\n 'Scapula',\n 'Second phalanx',\n 'Tibia',\n 'Ulna']"
     },
     "execution_count": 8,
     "metadata": {},
     "output_type": "execute_result"
    }
   ],
   "source": [
    "import utils.load_write as lw\n",
    "import utils.datastructure_operations as dataops\n",
    "\n",
    "df_horse = lw.load_csv(\"data/csv/abmap_horse.csv\")\n",
    "\n",
    "element_grp = df_horse.groupby(['ELEMENT'])\n",
    "#print(df.ELEMENT.nunique(), \"distinkte Einträge\")\n",
    "print(\"Es existieren Funde zu\", element_grp.ngroups, \"verschiedenen Knochentypen.\")\n",
    "list(element_grp.groups.keys())"
   ]
  },
  {
   "cell_type": "markdown",
   "source": [
    "Nun aktualisieren wir für jeden Datenpunkt die jeweilige Datierung (Periode), sodass wir nur noch mit den vier zuvor festgelegten, gröberen Perioden arbeiten. Dann zählen wir, aus wie vielen dieser Perioden für jeden Typ Funde vorliegen, denn wenn nur Funde aus einer Periode vorliegen, eignet sich der entsprechende Knochentyp natürlich nicht für einen Vergleich über die Zeit.\n",
    "Außerdem zählen wir, wie viele verschiedene Knochen jeweils gefunden wurden und wie viele Messungen pro Typ gemacht wurden, denn auch hier gilt: Zu wenige Daten liefern keine aussagekräftigen Ergebnisse."
   ],
   "metadata": {
    "collapsed": false
   }
  },
  {
   "cell_type": "code",
   "execution_count": null,
   "outputs": [],
   "source": [
    "import pandas as pd\n",
    "time_ranges_condensed = lw.load_json(\"data/json/time-ranges-condensed.json\")\n",
    "\n",
    "bone_types = dict()\n",
    "\n",
    "for bone_type in list(element_grp.groups.keys()):\n",
    "    ''' 'PERIOD' updaten und alle Spalten entfernen, die nicht benötigt werden '''\n",
    "    element_dataframe = dataops.update_period(element_grp.get_group(bone_type), time_ranges_condensed)\n",
    "    element_dimension_grp = element_dataframe.groupby('MEASTYPE')\n",
    "\n",
    "    ''' save the groups to files for better overview '''\n",
    "    #path = \"data/csv/elements/\" + bone_type.lower().replace(\" \",\"_\")\n",
    "    #lw.save_csv(element_dataframe, path + \".csv\")\n",
    "    #lw.save_dict_to_csv(dataops.create_dataframe_from_groups(element_dimension_grp), path + \"/\")\n",
    "\n",
    "    ''' zählen, wie viele verschiedene Knochen gefunden wurden '''\n",
    "    ctr = len(dataops.count_amounts_in_column(element_dataframe, \"BONEID\"))\n",
    "\n",
    "    ''' zählen, wie viele verschiedene Perioden enthalten sind '''\n",
    "    periods = len(dataops.count_amounts_in_column(element_dataframe, \"PERIOD\"))\n",
    "\n",
    "    bone_types.update(\n",
    "        {\n",
    "            bone_type : {\n",
    "                \"df\" : element_dataframe,\n",
    "                \"bone_amt\": ctr,\n",
    "                \"meas_amt\" : len(element_dataframe),\n",
    "                \"periods_amt\": periods\n",
    "            }\n",
    "        }\n",
    "    )"
   ],
   "metadata": {
    "collapsed": false,
    "pycharm": {
     "is_executing": true
    }
   }
  },
  {
   "cell_type": "markdown",
   "source": [
    "Die Anzahl der Funde und Messungen pro Knochentyp und auch pro Periode sollen als Barchart abgebildet werden.\n",
    "Zur einfacheren Weiterverarbeitung werden diese Daten daher in Listen gespeichert."
   ],
   "metadata": {
    "collapsed": false
   }
  },
  {
   "cell_type": "code",
   "execution_count": null,
   "outputs": [],
   "source": [
    "''' Lists for barchart data '''\n",
    "bone_amounts = []\n",
    "meas_amounts = []\n",
    "\n",
    "df_bone_types = pd.DataFrame(columns=['BONEID', 'MEASURE', 'MEASTYPE', 'PERIOD', 'RANGE'])\n",
    "\n",
    "for key in list(bone_types.keys()):\n",
    "    bones = bone_types[key][\"bone_amt\"]\n",
    "    bone_amounts.append(bones)\n",
    "    meas = bone_types[key][\"meas_amt\"]\n",
    "    meas_amounts.append(meas)\n",
    "    periods = bone_types[key][\"periods_amt\"]\n",
    "\n",
    "    print(key, \":\", bones, \"Fund(e) und\", meas, \"Messungen. Datierungen für\", periods, \"Perioden.\")\n",
    "\n",
    "    ''' Remove Types that don't have enough data to support any statistics about them '''\n",
    "    if bones < 10 or periods <= 2:\n",
    "        print(\"- DELETING\", key, \" - not enough data\")\n",
    "        del bone_types[key]\n",
    "    else:\n",
    "        df_bone_types = pd.concat([df_bone_types, bone_types[key][\"df\"]])"
   ],
   "metadata": {
    "collapsed": false
   }
  },
  {
   "cell_type": "markdown",
   "source": [
    "Die Einträge mit weniger als 10 Funden und/oder weniger als 2 Perioden werden in der weiteren Betrachtung außer Acht gelassen, da sie nicht ausreichend Daten für einen Vergleich liefern. Dies betrifft die Einträge für \"Mandible\", \"Second phalanx\" und \"Ulna\".\n",
    "Die Anzahl an Knochentypen reduziert sich damit von 14 auf 11."
   ],
   "metadata": {
    "collapsed": false
   }
  },
  {
   "cell_type": "markdown",
   "source": [
    "Nächster Schritt: Die Knochentypen mit den meisten Funden & Maßen durchgehen:\n",
    "1. statistische Übersicht für die beiden häufigsten vorhandene Dimension PRO PERIODE\n",
    "2. Trends der Größenentwicklung über die Perioden zusammenfassen"
   ],
   "metadata": {
    "collapsed": false
   }
  },
  {
   "cell_type": "code",
   "execution_count": null,
   "outputs": [],
   "source": [
    "# Raincloudplot probieren - seaborn Notation recherchieren?\n",
    "df_tmp = bone_types[\"Metatarsal\"][\"df\"]\n",
    "df_metatarsal_bd = df_tmp.loc[df_tmp['MEASTYPE'] == 'Bd']\n",
    "df_metatarsal_bd_grp = df_metatarsal_bd.groupby('PERIOD')\n",
    "x_1 = list(df_metatarsal_bd_grp.get_group('Bronze - Iron Age').MEASURE)\n",
    "x_2 = list(df_metatarsal_bd_grp.get_group('Roman - Saxon').MEASURE)\n",
    "x_3 = list(df_metatarsal_bd_grp.get_group('Medieval').MEASURE)\n",
    "x_4 = list(df_metatarsal_bd_grp.get_group('Modern').MEASURE)\n",
    "\n",
    "# auf y stehen die Labels für die Perioden, x bildet die Größe ab"
   ],
   "metadata": {
    "collapsed": false
   }
  },
  {
   "cell_type": "markdown",
   "source": [],
   "metadata": {
    "collapsed": false
   }
  },
  {
   "cell_type": "code",
   "execution_count": null,
   "outputs": [],
   "source": [
    "# ggf. für die deskriptive Übersicht? Kein weiterer Nutzen, wollte nur Notation merken\n",
    "df = bone_types[\"Metatarsal\"][\"df\"]\n",
    "df_grp = df.groupby(['MEASTYPE','PERIOD'])\n",
    "df_grp['MEASURE'].var()"
   ],
   "metadata": {
    "collapsed": false
   }
  },
  {
   "cell_type": "code",
   "execution_count": null,
   "outputs": [],
   "source": [
    "df_grp['MEASURE'].std()\n",
    "df_grp['MEASURE'].var()\n",
    "df_grp['MEASURE'].min()\n",
    "df_grp['MEASURE'].mean()\n",
    "df_grp['MEASURE'].median()\n",
    "df_grp['MEASURE'].max()"
   ],
   "metadata": {
    "collapsed": false
   }
  }
 ],
 "metadata": {
  "kernelspec": {
   "display_name": "Python 3",
   "language": "python",
   "name": "python3"
  },
  "language_info": {
   "codemirror_mode": {
    "name": "ipython",
    "version": 2
   },
   "file_extension": ".py",
   "mimetype": "text/x-python",
   "name": "python",
   "nbconvert_exporter": "python",
   "pygments_lexer": "ipython2",
   "version": "2.7.6"
  }
 },
 "nbformat": 4,
 "nbformat_minor": 0
}
