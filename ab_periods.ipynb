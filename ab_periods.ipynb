{
 "cells": [
  {
   "cell_type": "markdown",
   "source": [
    "# Timeline"
   ],
   "metadata": {
    "collapsed": false
   }
  },
  {
   "cell_type": "markdown",
   "source": [
    "## 1. Überblick\n",
    "Aus welchen zeitlichen Perioden liegen überhaupt Funde vor? Wie viele jeweils?"
   ],
   "metadata": {
    "collapsed": false
   }
  },
  {
   "cell_type": "code",
   "execution_count": 1,
   "outputs": [
    {
     "name": "stdout",
     "output_type": "stream",
     "text": [
      "21 Perioden mit der Anzahl der jeweiligen Funde: \n",
      "{ 'Early - Middle Iron Age': 40,\n",
      "  'Early Iron Age': 26,\n",
      "  'Early Medieval': 627,\n",
      "  'Early Roman': 65,\n",
      "  'Early Saxon': 2,\n",
      "  'Iron Age': 43,\n",
      "  'Late Bronze Age - Early Iron Age': 40,\n",
      "  'Late Iron Age': 193,\n",
      "  'Late Iron Age - Early Roman': 163,\n",
      "  'Late Roman': 289,\n",
      "  'Late Saxon': 41,\n",
      "  'Medieval': 790,\n",
      "  'Medieval - Post Medieval': 39,\n",
      "  'Mid - Late Iron Age': 16,\n",
      "  'Mid Roman': 10,\n",
      "  'Middle Iron Age': 206,\n",
      "  'Modern': 12,\n",
      "  'Post Medieval': 90,\n",
      "  'Roman': 383,\n",
      "  'Roman - Early Medieval': 14,\n",
      "  'Saxon': 10}\n",
      "Diese  21  Perioden wurden weiter unterteilt in insgesamt  101  Zeitintervalle.\n"
     ]
    }
   ],
   "source": [
    "import utils.load_write as lw\n",
    "import utils.datastructure_operations as dataops\n",
    "\n",
    "df_horse = lw.load_csv(\"data/csv/abmap_horse.csv\")\n",
    "\n",
    "periods = dataops.count_amounts_in_column(df_horse, \"PERIOD\")\n",
    "print(len(periods) , \"Perioden mit der Anzahl der jeweiligen Funde: \")\n",
    "dataops.pretty_print(periods)\n",
    "\n",
    "ranges = dataops.count_amounts_in_column(df_horse, \"RANGE\")\n",
    "print(\"Diese \", len(periods), \" Perioden wurden weiter unterteilt in insgesamt \", len(ranges), \" Zeitintervalle.\")"
   ],
   "metadata": {
    "collapsed": false
   }
  },
  {
   "cell_type": "markdown",
   "source": [
    "Bei der Betrachtung dieser Listen wird deutlich, dass einige Perioden nur sehr wenige Funde enthalten (2 für 'Early Saxon'), andere hingegen recht viele (790 für 'Medieval').\n",
    "Die einzelnen Funde wurden zusätzlich zu einer Periode noch jeweils einem etwas genaueren Zeitintervall zugeordnet ('RANGE').\n",
    "Insgesamt liegen 101 unterschiedliche Zeitintervalle vor, welche den insgesamt 21 Perioden zugeordnet wurden. Um einen groben zeitlichen Überblick über die Daten zu bekommen, sind dies viel zu viele Intervalle.\n",
    "\n",
    "### Range und Periode zusammenfassen?\n",
    "Im Folgenden möchte ich versuchen, die Perioden noch etwas gröber zu fassen und Attribute wie 'late' und 'early' auf die \"Hauptperiode\" zu reduzieren.\n",
    "Dafür muss ich allerdings sicherstellen, dass sich Zeitspannen, die ich alleine vom Namen her nicht zusammenfassen würde, auch nicht überschneiden.\n",
    "Außerdem wäre es hilfreich, die gesamte Spannweite der einzelnen Perioden zu kennen."
   ],
   "metadata": {
    "collapsed": false
   }
  },
  {
   "cell_type": "markdown",
   "source": [
    "1. Liste der Perioden der Urgeschichte serialisieren, damit der lange Text nicht dauernd im Code stehen muss."
   ],
   "metadata": {
    "collapsed": false
   }
  },
  {
   "cell_type": "code",
   "execution_count": 2,
   "outputs": [],
   "source": [
    "archaeological_periods = {'Late Bronze Age - Early Iron Age':[],\n",
    "                          'Early Iron Age':[],\n",
    "                          'Early - Middle Iron Age':[],\n",
    "                          'Middle Iron Age':[],\n",
    "                          'Iron Age':[],\n",
    "                          'Mid - Late Iron Age':[],\n",
    "                          'Late Iron Age':[],\n",
    "                          'Late Iron Age - Early Roman':[],\n",
    "                          'Early Roman':[],\n",
    "                          'Mid Roman':[],\n",
    "                          'Roman':[],\n",
    "                          'Late Roman':[],\n",
    "                          'Early Saxon':[],\n",
    "                          'Saxon':[],\n",
    "                          'Late Saxon':[],\n",
    "                          'Roman - Early Medieval':[],\n",
    "                          'Early Medieval':[],\n",
    "                          'Medieval':[],\n",
    "                          'Medieval - Post Medieval':[],\n",
    "                          'Post Medieval':[],\n",
    "                          'Modern': [],\n",
    "                          }\n",
    "\n",
    "#lw.save_json(archaeological_periods, \"data/json/archaeological-periods.json\")"
   ],
   "metadata": {
    "collapsed": false
   }
  },
  {
   "cell_type": "markdown",
   "source": [
    "2. Für jede der Perioden alle Range-Attribute finden. Diese bestehen aus einem Tupel $(y_s, y_e)$ mit $y_s =$ Start des Intervalls und $y_e = $ Ende des Intervalls.\n",
    "Falls es mehrere Ranges für eine Periode gibt, werden diese Tupel zuerst sortiert und zwar aufsteigend nach $y_s$, um einen Überblick zu bekommen."
   ],
   "metadata": {
    "collapsed": false
   }
  },
  {
   "cell_type": "code",
   "execution_count": 3,
   "outputs": [],
   "source": [
    "#df_horse = lw.load_csv(\"data/csv/abmap_horse.csv\")\n",
    "periods_ranges = lw.load_json(\"data/json/archaeological-periods.json\")\n",
    "\n",
    "\"\"\"\n",
    "Get all associated ranges for each period\n",
    "\"\"\"\n",
    "for period, years in zip(df_horse.PERIOD, df_horse.RANGE):\n",
    "    if period in periods_ranges:\n",
    "        if years not in periods_ranges[period]:\n",
    "            periods_ranges[period].append(years)\n",
    "    else:\n",
    "        periods_ranges[period] = []\n",
    "        periods_ranges[period].append(years)\n",
    "\n",
    "\"\"\"\n",
    "The 'RANGE' Attribute is a string, so in order to do anything with these years we have to convert them to int.\n",
    "\"\"\"\n",
    "for period in periods_ranges:\n",
    "    for years in periods_ranges[period]:\n",
    "        periods_ranges[period][periods_ranges[period].index(years)] = dataops.range_to_tuple(years)\n",
    "\n",
    "    periods_ranges[period].sort(key=lambda x: x[0])\n",
    "\n",
    "#lw.save_json(periods_ranges, \"data/json/archaeological-periods-w-ranges.json\")"
   ],
   "metadata": {
    "collapsed": false
   }
  },
  {
   "cell_type": "markdown",
   "source": [
    "3. Anschließend wird für jede Periode aus der Liste ihrer zugehörigen range-Tupel das kleinste $y_s$ und das größe $y_e$ für die maximale range dieser Periode bestimmt, sodass $y_s = p_s =$ Start der Periode und $y_e = p_e =$ Ende der Periode."
   ],
   "metadata": {
    "collapsed": false
   }
  },
  {
   "cell_type": "code",
   "execution_count": 4,
   "outputs": [],
   "source": [
    "import utils.load_write as lw\n",
    "\n",
    "\"\"\"\n",
    "From alle the ranges for each period find the earliest and the latest year for the min-max range\n",
    "\"\"\"\n",
    "period_min_max = {}\n",
    "periods_ranges = lw.load_json(\"data/json/archaeological-periods-w-ranges.json\")\n",
    "for period in periods_ranges:\n",
    "    period_min_max [period] = (min(periods_ranges[period],key=lambda x : x[0])[0],\n",
    "                               max(periods_ranges[period],key=lambda x : x[1])[1])\n",
    "\n",
    "#lw.save_json(period_min_max, \"data/json/periods-min-max.json\")"
   ],
   "metadata": {
    "collapsed": false
   }
  },
  {
   "cell_type": "markdown",
   "source": [],
   "metadata": {
    "collapsed": false
   }
  },
  {
   "cell_type": "code",
   "execution_count": 5,
   "outputs": [],
   "source": [
    "time_ranges_condensed = lw.load_json(\"data/json/time-ranges-condensed.json\")"
   ],
   "metadata": {
    "collapsed": false
   }
  },
  {
   "cell_type": "markdown",
   "source": [],
   "metadata": {
    "collapsed": false
   }
  }
 ],
 "metadata": {
  "kernelspec": {
   "display_name": "Python 3",
   "language": "python",
   "name": "python3"
  },
  "language_info": {
   "codemirror_mode": {
    "name": "ipython",
    "version": 2
   },
   "file_extension": ".py",
   "mimetype": "text/x-python",
   "name": "python",
   "nbconvert_exporter": "python",
   "pygments_lexer": "ipython2",
   "version": "2.7.6"
  }
 },
 "nbformat": 4,
 "nbformat_minor": 0
}
