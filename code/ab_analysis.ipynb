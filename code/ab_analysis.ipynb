{
 "cells": [
  {
   "cell_type": "markdown",
   "source": [
    "# Datenanalyse"
   ],
   "metadata": {
    "collapsed": false
   }
  },
  {
   "cell_type": "markdown",
   "source": [
    "Erstmal brauchen wir die Daten und einen groben Überblick:"
   ],
   "metadata": {
    "collapsed": false
   }
  },
  {
   "cell_type": "code",
   "execution_count": 12,
   "metadata": {
    "collapsed": true
   },
   "outputs": [
    {
     "name": "stdout",
     "output_type": "stream",
     "text": [
      "Es liegen 3099 Maße von insgesamt 1038 Knochen aus 71 archäologischen Fundstellen vor.\n",
      "Jeder Datenpunkt hat 17 Attribute:\n",
      "[ 'BONEID', 'MEASURE', 'MEASTYPE', 'SPECIES', 'ELEMENT', 'SIDE', 'COMMENTS',\n",
      "  'CONTEXT', 'PERIOD', 'CDATE', 'RANGE', 'PHASE', 'SITECODE', 'SITE', 'COUNTY',\n",
      "  'GRIDREF', 'REFERENCE']\n"
     ]
    }
   ],
   "source": [
    "import pandas as pd\n",
    "import utils.load_write as lw\n",
    "import utils.datastructure_operations as dataops\n",
    "import utils.specific_helpers as sph\n",
    "\n",
    "df_horse = lw.load_csv(\"../data/csv/abmap_horse.csv\")\n",
    "\n",
    "measures_per_bone = df_horse.BONEID.value_counts()\n",
    "sites = df_horse.SITE.value_counts()\n",
    "\n",
    "print(\"Es liegen\", len(df_horse.index) ,\n",
    "      \"Maße von insgesamt\", len(measures_per_bone),\n",
    "      \"Knochen aus\" , len(sites),\n",
    "      \"archäologischen Fundstellen vor.\")\n",
    "\n",
    "print(\"Jeder Datenpunkt hat\", len(df_horse.columns), \"Attribute:\")\n",
    "\n",
    "dataops.pretty_print(list(df_horse.columns))"
   ]
  },
  {
   "cell_type": "markdown",
   "source": [
    "## Bone Types\n",
    "Anschließend gruppieren wir die Daten nach den Knochentypen (`ELEMENT`-Attribut), da wir nur innerhalb des gleichen Typs sinnvolle Vergleiche anstellen können:"
   ],
   "metadata": {
    "collapsed": false
   }
  },
  {
   "cell_type": "code",
   "execution_count": 13,
   "outputs": [
    {
     "name": "stdout",
     "output_type": "stream",
     "text": [
      "Es existieren Funde zu 14 verschiedenen Knochentypen:\n"
     ]
    },
    {
     "data": {
      "text/plain": "['Astragalus',\n 'Calcaneum',\n 'Femur',\n 'First phalanx',\n 'Humerus',\n 'Mandible',\n 'Metacarpal',\n 'Metatarsal',\n 'Pelvis',\n 'Radius',\n 'Scapula',\n 'Second phalanx',\n 'Tibia',\n 'Ulna']"
     },
     "execution_count": 13,
     "metadata": {},
     "output_type": "execute_result"
    }
   ],
   "source": [
    "element_grp = df_horse.groupby(['ELEMENT'])\n",
    "print(\"Es existieren Funde zu\", element_grp.ngroups, \"verschiedenen Knochentypen:\")\n",
    "list(element_grp.groups.keys())"
   ],
   "metadata": {
    "collapsed": false
   }
  },
  {
   "cell_type": "markdown",
   "source": [
    "## Datierung\n",
    "Danach wollen wir wissen, aus welchen zeitlichen Perioden überhaupt Funde vorliegen und ob die Anzahl jeweils ausreicht für eine statistische Auswertung. Dazu betrachten wir die Attribute `PERIOD` und `RANGE`:"
   ],
   "metadata": {
    "collapsed": false
   }
  },
  {
   "cell_type": "code",
   "execution_count": 14,
   "outputs": [
    {
     "name": "stdout",
     "output_type": "stream",
     "text": [
      "Anzahl an Funden pro Periode: \n",
      "{ 'Early - Middle Iron Age': 40,\n",
      "  'Early Iron Age': 26,\n",
      "  'Early Medieval': 627,\n",
      "  'Early Roman': 65,\n",
      "  'Early Saxon': 2,\n",
      "  'Iron Age': 43,\n",
      "  'Late Bronze Age - Early Iron Age': 40,\n",
      "  'Late Iron Age': 193,\n",
      "  'Late Iron Age - Early Roman': 163,\n",
      "  'Late Roman': 289,\n",
      "  'Late Saxon': 41,\n",
      "  'Medieval': 790,\n",
      "  'Medieval - Post Medieval': 39,\n",
      "  'Mid - Late Iron Age': 16,\n",
      "  'Mid Roman': 10,\n",
      "  'Middle Iron Age': 206,\n",
      "  'Modern': 12,\n",
      "  'Post Medieval': 90,\n",
      "  'Roman': 383,\n",
      "  'Roman - Early Medieval': 14,\n",
      "  'Saxon': 10}\n",
      "Diese 21 Perioden des Datensatzes wurden weiter unterteilt in insgesamt 101 Zeitintervalle.\n"
     ]
    }
   ],
   "source": [
    "periods = dataops.count_amounts_in_column(df_horse, \"PERIOD\")\n",
    "print(\"Anzahl an Funden pro Periode: \")\n",
    "dataops.pretty_print(periods)\n",
    "\n",
    "ranges = dataops.count_amounts_in_column(df_horse, \"RANGE\")\n",
    "print(\"Diese\", len(periods),\n",
    "      \"Perioden des Datensatzes wurden weiter unterteilt in insgesamt\", len(ranges),\n",
    "      \"Zeitintervalle.\")"
   ],
   "metadata": {
    "collapsed": false
   }
  },
  {
   "cell_type": "markdown",
   "source": [
    "Bei der Betrachtung dieser Listen wird deutlich, dass einige Perioden nur sehr wenige Funde enthalten (2 für 'Early Saxon'), andere hingegen recht viele (790 für 'Medieval').\n",
    "Die einzelnen Funde wurden zusätzlich zu einer Periode noch jeweils einem etwas genaueren Zeitintervall zugeordnet ('RANGE').\n",
    "Insgesamt liegen 101 unterschiedliche Zeitintervalle vor, welche den insgesamt 21 Perioden zugeordnet wurden. Um einen groben zeitlichen Überblick über die Daten zu bekommen, sind dies viel zu viele Intervalle."
   ],
   "metadata": {
    "collapsed": false
   }
  },
  {
   "cell_type": "markdown",
   "source": [
    "### Range und Periode zusammenfassen?\n",
    "Im Folgenden möchte ich versuchen, die Perioden noch etwas gröber zu fassen und Attribute wie 'late' und 'early' auf die \"Hauptperiode\" zu reduzieren.\n",
    "Dafür muss ich allerdings sicherstellen, dass sich Zeitspannen, die ich alleine vom Namen her nicht zusammenfassen würde, auch nicht überschneiden.\n",
    "Außerdem wäre es hilfreich, die gesamte Spannweite der einzelnen Perioden zu kennen.\n",
    "1. Liste der Perioden der Urgeschichte serialisieren, damit der lange Text nicht dauernd im Code stehen muss."
   ],
   "metadata": {
    "collapsed": false
   }
  },
  {
   "cell_type": "code",
   "execution_count": 15,
   "outputs": [],
   "source": [
    "archaeological_periods = sph.archaeological_periods_dict()\n",
    "#lw.save_json(archaeological_periods, \"../data/json/archaeological-periods.json\")"
   ],
   "metadata": {
    "collapsed": false
   }
  },
  {
   "cell_type": "markdown",
   "source": [
    "2. Für jede der Perioden alle Range-Attribute finden. Diese bestehen aus einem Tupel $(y_s, y_e)$ mit $y_s =$ Start des Intervalls und $y_e = $ Ende des Intervalls.\n",
    "Falls es mehrere Ranges für eine Periode gibt, werden diese Tupel zuerst sortiert und zwar aufsteigend nach $y_s$, um einen Überblick zu bekommen."
   ],
   "metadata": {
    "collapsed": false
   }
  },
  {
   "cell_type": "code",
   "execution_count": 16,
   "outputs": [],
   "source": [
    "periods_ranges = lw.load_json(\"../data/json/archaeological-periods.json\")\n",
    "\n",
    "\"\"\"\n",
    "Get all associated ranges for each period\n",
    "\"\"\"\n",
    "for period, years in zip(df_horse.PERIOD, df_horse.RANGE):\n",
    "      if period in periods_ranges:\n",
    "            if years not in periods_ranges[period]:\n",
    "                  periods_ranges[period].append(years)\n",
    "      else:\n",
    "            periods_ranges[period] = []\n",
    "            periods_ranges[period].append(years)\n",
    "\n",
    "\"\"\"\n",
    "The 'RANGE' Attribute is a string, so in order to do anything with these years we have to convert them to int.\n",
    "\"\"\"\n",
    "for period in periods_ranges:\n",
    "      for years in periods_ranges[period]:\n",
    "            periods_ranges[period][periods_ranges[period].index(years)] = dataops.range_to_tuple(years)\n",
    "\n",
    "      periods_ranges[period].sort(key=lambda x: x[0])\n",
    "\n",
    "#lw.save_json(periods_ranges, \"../data/json/archaeological-periods-w-ranges.json\")"
   ],
   "metadata": {
    "collapsed": false
   }
  },
  {
   "cell_type": "markdown",
   "source": [
    "3. Anschließend wird für jede Periode aus der Liste ihrer zugehörigen range-Tupel das kleinste $y_s$ und das größe $y_e$ für die maximale range dieser Periode bestimmt, sodass $y_s = p_s =$ Start der Periode und $y_e = p_e =$ Ende der Periode."
   ],
   "metadata": {
    "collapsed": false
   }
  },
  {
   "cell_type": "code",
   "execution_count": 17,
   "outputs": [],
   "source": [
    "\"\"\"\n",
    "From alle the ranges for each period find the earliest and the latest year for the min-max range\n",
    "\"\"\"\n",
    "period_min_max = {}\n",
    "periods_ranges = lw.load_json(\"../data/json/archaeological-periods-w-ranges.json\")\n",
    "for period in periods_ranges:\n",
    "      period_min_max [period] = (min(periods_ranges[period],key=lambda x : x[0])[0],\n",
    "                                 max(periods_ranges[period],key=lambda x : x[1])[1])\n",
    "\n",
    "#lw.save_json(period_min_max, \"../data/json/periods-min-max.json\")"
   ],
   "metadata": {
    "collapsed": false
   }
  },
  {
   "cell_type": "markdown",
   "source": [
    "### Eigene Einteilung der Perioden\n",
    "Die Datierungen der Funde überlappen sich jedoch zu stark, um eine klare Grenze zu ziehen.\n",
    "Daher werden die Funde von Hand grob in vier Perioden eingeteilt, s. `../data/json/time-ranges-condensed.json`:\n",
    "1. Bronze - Iron Age (-1000 - 150)\n",
    "2. Roman - Saxon (43 - 1139)\n",
    "3. Medieval (1000 - 1901)\n",
    "4. Modern (1900 - 2500)"
   ],
   "metadata": {
    "collapsed": false
   }
  },
  {
   "cell_type": "markdown",
   "source": [
    "Nun aktualisieren wir für jeden Datenpunkt die jeweilige Datierung (`PERIOD`), sodass wir nur noch mit den vier zuvor festgelegten, gröberen Perioden arbeiten.\n",
    "Dann zählen wir, aus wie vielen dieser Perioden für jeden Typ Funde vorliegen, denn wenn nur Funde aus einer Periode vorliegen, eignet sich der entsprechende Knochentyp natürlich nicht für einen Vergleich über die Zeit.\n",
    "Außerdem zählen wir, wie viele verschiedene Knochen jeweils gefunden wurden und wie viele Messungen pro Typ gemacht wurden, denn auch hier gilt: Zu wenige Daten liefern keine aussagekräftigen Ergebnisse."
   ],
   "metadata": {
    "collapsed": false
   }
  },
  {
   "cell_type": "code",
   "execution_count": 18,
   "outputs": [],
   "source": [
    "time_ranges_condensed = lw.load_json(\"../data/json/time-ranges-condensed.json\")\n",
    "\n",
    "relevant_bone_types = list(element_grp.groups.keys())\n",
    "bone_types_dict = dict()\n",
    "\n",
    "for bone_type in relevant_bone_types:\n",
    "      ''' 'PERIOD' updaten und alle Spalten entfernen, die nicht benötigt werden '''\n",
    "      element_dataframe = dataops.update_period(element_grp.get_group(bone_type), time_ranges_condensed)\n",
    "\n",
    "      ''' save the data for each type to files for better overview '''\n",
    "      path = \"../data/csv/elements/\" + bone_type.lower().replace(\" \",\"-\")\n",
    "      #lw.save_csv(element_dataframe, path + \".csv\")\n",
    "\n",
    "      ''' count the amount of different bones for this type '''\n",
    "      ctr = len(dataops.count_amounts_in_column(element_dataframe, \"BONEID\"))\n",
    "\n",
    "      ''' count the amount of periods for this type '''\n",
    "      periods = len(dataops.count_amounts_in_column(element_dataframe, \"PERIOD\"))\n",
    "\n",
    "      bone_types_dict.update(dataops.bone_type_dict(bone_type, element_dataframe, ctr, periods))"
   ],
   "metadata": {
    "collapsed": false
   }
  },
  {
   "cell_type": "markdown",
   "source": [
    "Die Anzahl der Funde und Messungen pro Knochentyp und auch pro Periode sollen als Barchart abgebildet werden.\n",
    "Zur einfacheren Weiterverarbeitung werden diese Daten daher in passende Dataframes sortiert und abgespeichert:"
   ],
   "metadata": {
    "collapsed": false
   }
  },
  {
   "cell_type": "code",
   "execution_count": 19,
   "outputs": [
    {
     "name": "stdout",
     "output_type": "stream",
     "text": [
      "Astragalus : 81 Fund(e) und 229 Messungen. Datierungen für 3 Perioden.\n",
      "Calcaneum : 33 Fund(e) und 46 Messungen. Datierungen für 3 Perioden.\n",
      "Femur : 51 Fund(e) und 108 Messungen. Datierungen für 3 Perioden.\n",
      "First phalanx : 134 Fund(e) und 540 Messungen. Datierungen für 3 Perioden.\n",
      "Humerus : 97 Fund(e) und 208 Messungen. Datierungen für 3 Perioden.\n",
      "Mandible has not enough data.\n",
      "Metacarpal : 112 Fund(e) und 455 Messungen. Datierungen für 3 Perioden.\n",
      "Metatarsal : 146 Fund(e) und 537 Messungen. Datierungen für 4 Perioden.\n",
      "Pelvis : 34 Fund(e) und 58 Messungen. Datierungen für 3 Perioden.\n",
      "Radius : 125 Fund(e) und 367 Messungen. Datierungen für 3 Perioden.\n",
      "Scapula : 83 Fund(e) und 198 Messungen. Datierungen für 3 Perioden.\n",
      "Second phalanx has not enough data.\n",
      "Tibia : 135 Fund(e) und 335 Messungen. Datierungen für 4 Perioden.\n",
      "Ulna has not enough data.\n"
     ]
    }
   ],
   "source": [
    "df_measures_findings, df_findings_periods = sph.create_dataframe_for_barchart(bone_types_dict)\n",
    "\n",
    "#lw.save_csv(df_measures_findings, \"../data/csv/amt-measures-findings.csv\")"
   ],
   "metadata": {
    "collapsed": false
   }
  },
  {
   "cell_type": "markdown",
   "source": [
    "#### Aussortiern\n",
    "Die Einträge mit weniger als 10 Funden und/oder weniger als 2 Perioden werden in der weiteren Betrachtung außer Acht gelassen, da sie nicht ausreichend Daten für einen Vergleich liefern. Dies betrifft die Einträge für \"Mandible\", \"Second phalanx\" und \"Ulna\".\n",
    "Die Anzahl an Knochentypen reduziert sich damit von 14 auf 11."
   ],
   "metadata": {
    "collapsed": false
   }
  },
  {
   "cell_type": "markdown",
   "source": [
    "## Measurements\n",
    "Als Nächstes gehen wir das Attribut `MEASTYPE` an.\n",
    "In diesem Datensatz haben wir es mit einer Vielzahl unterschiedlicher Maße zu tun.\n",
    "Zum einen wurden viele verschiedene Knochentypen vermessen, zum anderen wurden die einzelnen Knochentypen auch noch auf verschiedene Weisen vermessen, was durch den jeweiligen Code unter dem Attribut `MEASTYPE` angezeigt wird.\n",
    "Das bedeutet, dass selbst die Maße für den gleichen Knochentyp nicht unbedingt vergleichbar sind, weil z.B. manche Maße die Länge des Knochens, andere die Breite an einer bestimmten Stelle und wieder andere den Umfang angeben.\n",
    "Bei der Auswertung muss also nicht nur nach Knochentyp unterschieden werden, sondern innerhalb des Knochentyps auch noch mal nach `MEASTYPE`, um die Maße auch wirklich vergleichbar zu halten.\n",
    "Erst dann kann eine Entwicklung über die Zeit betrachtet werden."
   ],
   "metadata": {
    "collapsed": false
   }
  },
  {
   "cell_type": "markdown",
   "source": [
    "#### Problem\n",
    "Es wird jedoch schnell offensichtlich, dass die vergleichbare Datenmenge plötzlich sehr klein wird und kaum noch für eine aussagekräftige Statistik genutzt werden kann.\n",
    "Der Versuch, statt aller verfügbarer Pferdeknochen beispielsweise alle Knochen desselben Typs einer Tierart zu untersuchen, die viel mehr Funde vorweisen kann, scheitert leider daran, dass die Datenbank des ABMAP-Projekts momentan nicht verfügbar ist (Stand 31.3.2023). Wir müssen also mit den - vergleichsweise wenigen - Pferdeknochen arbeiten."
   ],
   "metadata": {
    "collapsed": false
   }
  },
  {
   "cell_type": "markdown",
   "source": [
    "Zunächst wollen wir also herausfinden, mit welchen und wie vielen verschiedenen Mess-Dimensionen wir es hier zu tun haben und was sie bedeuten - ggf. kann man sie zusammenfassen. Dazu zählen wir zuerst, wie viele verschiedene Dimensionen pro Knochentyp vorliegen:"
   ],
   "metadata": {
    "collapsed": false
   }
  },
  {
   "cell_type": "code",
   "execution_count": 20,
   "outputs": [
    {
     "data": {
      "text/plain": "           ELEMENT MEASTYPE  COUNT\n0       Astragalus       GB     65\n1       Astragalus       GH     60\n2       Astragalus      BFd     51\n3       Astragalus      LmT     51\n4       Astragalus       Lm      1\n5        Calcaneum       GB     24\n6        Calcaneum       GL     22\n7            Femur       DC     24\n8            Femur       SD     24\n9            Femur       Bd     23\n10           Femur       Bp     12\n11           Femur       GL     12\n12           Femur      GLC     10\n13           Femur       CD      3\n14   First phalanx       SD    119\n15   First phalanx       GL    108\n16   First phalanx       Bd    102\n17   First phalanx       Bp     68\n18   First phalanx       Dp     53\n19   First phalanx      BFd     47\n20   First phalanx      BFp     40\n21   First phalanx       Dd      3\n22         Humerus       BT     74\n23         Humerus       Bd     58\n24         Humerus       SD     32\n25         Humerus      HTC     19\n26         Humerus      GLl     13\n27         Humerus      GLC      7\n28         Humerus       Bp      4\n29         Humerus       GL      1\n30        Mandible      14B      1\n31        Mandible      14L      1\n32        Mandible       9B      1\n33        Mandible       9L      1\n34      Metacarpal       Bd     90\n35      Metacarpal       Bp     76\n36      Metacarpal       GL     72\n37      Metacarpal       SD     72\n38      Metacarpal       Dp     50\n39      Metacarpal       Ll     30\n40      Metacarpal       Dd     25\n41      Metacarpal      GLl     16\n42      Metacarpal       TD     13\n43      Metacarpal       CD     11\n44      Metatarsal       Bd    105\n45      Metatarsal       SD     85\n46      Metatarsal       GL     84\n47      Metatarsal       Bp     79\n48      Metatarsal       Dd     48\n49      Metatarsal       Dp     48\n50      Metatarsal       Ll     39\n51      Metatarsal       CD     23\n52      Metatarsal       TD     15\n53      Metatarsal      GLl      7\n54      Metatarsal       DD      3\n55      Metatarsal      BFd      1\n56          Pelvis      LAR     28\n57          Pelvis       LA     10\n58          Pelvis       SB      8\n59          Pelvis       SH      7\n60          Pelvis       SC      3\n61          Pelvis      LFo      2\n62          Radius       Bd     69\n63          Radius       Bp     61\n64          Radius       GL     56\n65          Radius      BFd     53\n66          Radius      BFp     50\n67          Radius       SD     49\n68          Radius       Ll     22\n69          Radius       CD      7\n70         Scapula      SLC     63\n71         Scapula       BG     47\n72         Scapula       LG     46\n73         Scapula      GLP     42\n74  Second phalanx       Bd      1\n75  Second phalanx       Bp      1\n76  Second phalanx       GL      1\n77  Second phalanx       SD      1\n78           Tibia       Bd    120\n79           Tibia       Dd     79\n80           Tibia       SD     48\n81           Tibia       GL     42\n82           Tibia       Bp     23\n83           Tibia       Ll     17\n84           Tibia       CD      6\n85            Ulna      BPC      4\n86            Ulna      DPA      4\n87            Ulna      SDO      2",
      "text/html": "<div>\n<style scoped>\n    .dataframe tbody tr th:only-of-type {\n        vertical-align: middle;\n    }\n\n    .dataframe tbody tr th {\n        vertical-align: top;\n    }\n\n    .dataframe thead th {\n        text-align: right;\n    }\n</style>\n<table border=\"1\" class=\"dataframe\">\n  <thead>\n    <tr style=\"text-align: right;\">\n      <th></th>\n      <th>ELEMENT</th>\n      <th>MEASTYPE</th>\n      <th>COUNT</th>\n    </tr>\n  </thead>\n  <tbody>\n    <tr>\n      <th>0</th>\n      <td>Astragalus</td>\n      <td>GB</td>\n      <td>65</td>\n    </tr>\n    <tr>\n      <th>1</th>\n      <td>Astragalus</td>\n      <td>GH</td>\n      <td>60</td>\n    </tr>\n    <tr>\n      <th>2</th>\n      <td>Astragalus</td>\n      <td>BFd</td>\n      <td>51</td>\n    </tr>\n    <tr>\n      <th>3</th>\n      <td>Astragalus</td>\n      <td>LmT</td>\n      <td>51</td>\n    </tr>\n    <tr>\n      <th>4</th>\n      <td>Astragalus</td>\n      <td>Lm</td>\n      <td>1</td>\n    </tr>\n    <tr>\n      <th>5</th>\n      <td>Calcaneum</td>\n      <td>GB</td>\n      <td>24</td>\n    </tr>\n    <tr>\n      <th>6</th>\n      <td>Calcaneum</td>\n      <td>GL</td>\n      <td>22</td>\n    </tr>\n    <tr>\n      <th>7</th>\n      <td>Femur</td>\n      <td>DC</td>\n      <td>24</td>\n    </tr>\n    <tr>\n      <th>8</th>\n      <td>Femur</td>\n      <td>SD</td>\n      <td>24</td>\n    </tr>\n    <tr>\n      <th>9</th>\n      <td>Femur</td>\n      <td>Bd</td>\n      <td>23</td>\n    </tr>\n    <tr>\n      <th>10</th>\n      <td>Femur</td>\n      <td>Bp</td>\n      <td>12</td>\n    </tr>\n    <tr>\n      <th>11</th>\n      <td>Femur</td>\n      <td>GL</td>\n      <td>12</td>\n    </tr>\n    <tr>\n      <th>12</th>\n      <td>Femur</td>\n      <td>GLC</td>\n      <td>10</td>\n    </tr>\n    <tr>\n      <th>13</th>\n      <td>Femur</td>\n      <td>CD</td>\n      <td>3</td>\n    </tr>\n    <tr>\n      <th>14</th>\n      <td>First phalanx</td>\n      <td>SD</td>\n      <td>119</td>\n    </tr>\n    <tr>\n      <th>15</th>\n      <td>First phalanx</td>\n      <td>GL</td>\n      <td>108</td>\n    </tr>\n    <tr>\n      <th>16</th>\n      <td>First phalanx</td>\n      <td>Bd</td>\n      <td>102</td>\n    </tr>\n    <tr>\n      <th>17</th>\n      <td>First phalanx</td>\n      <td>Bp</td>\n      <td>68</td>\n    </tr>\n    <tr>\n      <th>18</th>\n      <td>First phalanx</td>\n      <td>Dp</td>\n      <td>53</td>\n    </tr>\n    <tr>\n      <th>19</th>\n      <td>First phalanx</td>\n      <td>BFd</td>\n      <td>47</td>\n    </tr>\n    <tr>\n      <th>20</th>\n      <td>First phalanx</td>\n      <td>BFp</td>\n      <td>40</td>\n    </tr>\n    <tr>\n      <th>21</th>\n      <td>First phalanx</td>\n      <td>Dd</td>\n      <td>3</td>\n    </tr>\n    <tr>\n      <th>22</th>\n      <td>Humerus</td>\n      <td>BT</td>\n      <td>74</td>\n    </tr>\n    <tr>\n      <th>23</th>\n      <td>Humerus</td>\n      <td>Bd</td>\n      <td>58</td>\n    </tr>\n    <tr>\n      <th>24</th>\n      <td>Humerus</td>\n      <td>SD</td>\n      <td>32</td>\n    </tr>\n    <tr>\n      <th>25</th>\n      <td>Humerus</td>\n      <td>HTC</td>\n      <td>19</td>\n    </tr>\n    <tr>\n      <th>26</th>\n      <td>Humerus</td>\n      <td>GLl</td>\n      <td>13</td>\n    </tr>\n    <tr>\n      <th>27</th>\n      <td>Humerus</td>\n      <td>GLC</td>\n      <td>7</td>\n    </tr>\n    <tr>\n      <th>28</th>\n      <td>Humerus</td>\n      <td>Bp</td>\n      <td>4</td>\n    </tr>\n    <tr>\n      <th>29</th>\n      <td>Humerus</td>\n      <td>GL</td>\n      <td>1</td>\n    </tr>\n    <tr>\n      <th>30</th>\n      <td>Mandible</td>\n      <td>14B</td>\n      <td>1</td>\n    </tr>\n    <tr>\n      <th>31</th>\n      <td>Mandible</td>\n      <td>14L</td>\n      <td>1</td>\n    </tr>\n    <tr>\n      <th>32</th>\n      <td>Mandible</td>\n      <td>9B</td>\n      <td>1</td>\n    </tr>\n    <tr>\n      <th>33</th>\n      <td>Mandible</td>\n      <td>9L</td>\n      <td>1</td>\n    </tr>\n    <tr>\n      <th>34</th>\n      <td>Metacarpal</td>\n      <td>Bd</td>\n      <td>90</td>\n    </tr>\n    <tr>\n      <th>35</th>\n      <td>Metacarpal</td>\n      <td>Bp</td>\n      <td>76</td>\n    </tr>\n    <tr>\n      <th>36</th>\n      <td>Metacarpal</td>\n      <td>GL</td>\n      <td>72</td>\n    </tr>\n    <tr>\n      <th>37</th>\n      <td>Metacarpal</td>\n      <td>SD</td>\n      <td>72</td>\n    </tr>\n    <tr>\n      <th>38</th>\n      <td>Metacarpal</td>\n      <td>Dp</td>\n      <td>50</td>\n    </tr>\n    <tr>\n      <th>39</th>\n      <td>Metacarpal</td>\n      <td>Ll</td>\n      <td>30</td>\n    </tr>\n    <tr>\n      <th>40</th>\n      <td>Metacarpal</td>\n      <td>Dd</td>\n      <td>25</td>\n    </tr>\n    <tr>\n      <th>41</th>\n      <td>Metacarpal</td>\n      <td>GLl</td>\n      <td>16</td>\n    </tr>\n    <tr>\n      <th>42</th>\n      <td>Metacarpal</td>\n      <td>TD</td>\n      <td>13</td>\n    </tr>\n    <tr>\n      <th>43</th>\n      <td>Metacarpal</td>\n      <td>CD</td>\n      <td>11</td>\n    </tr>\n    <tr>\n      <th>44</th>\n      <td>Metatarsal</td>\n      <td>Bd</td>\n      <td>105</td>\n    </tr>\n    <tr>\n      <th>45</th>\n      <td>Metatarsal</td>\n      <td>SD</td>\n      <td>85</td>\n    </tr>\n    <tr>\n      <th>46</th>\n      <td>Metatarsal</td>\n      <td>GL</td>\n      <td>84</td>\n    </tr>\n    <tr>\n      <th>47</th>\n      <td>Metatarsal</td>\n      <td>Bp</td>\n      <td>79</td>\n    </tr>\n    <tr>\n      <th>48</th>\n      <td>Metatarsal</td>\n      <td>Dd</td>\n      <td>48</td>\n    </tr>\n    <tr>\n      <th>49</th>\n      <td>Metatarsal</td>\n      <td>Dp</td>\n      <td>48</td>\n    </tr>\n    <tr>\n      <th>50</th>\n      <td>Metatarsal</td>\n      <td>Ll</td>\n      <td>39</td>\n    </tr>\n    <tr>\n      <th>51</th>\n      <td>Metatarsal</td>\n      <td>CD</td>\n      <td>23</td>\n    </tr>\n    <tr>\n      <th>52</th>\n      <td>Metatarsal</td>\n      <td>TD</td>\n      <td>15</td>\n    </tr>\n    <tr>\n      <th>53</th>\n      <td>Metatarsal</td>\n      <td>GLl</td>\n      <td>7</td>\n    </tr>\n    <tr>\n      <th>54</th>\n      <td>Metatarsal</td>\n      <td>DD</td>\n      <td>3</td>\n    </tr>\n    <tr>\n      <th>55</th>\n      <td>Metatarsal</td>\n      <td>BFd</td>\n      <td>1</td>\n    </tr>\n    <tr>\n      <th>56</th>\n      <td>Pelvis</td>\n      <td>LAR</td>\n      <td>28</td>\n    </tr>\n    <tr>\n      <th>57</th>\n      <td>Pelvis</td>\n      <td>LA</td>\n      <td>10</td>\n    </tr>\n    <tr>\n      <th>58</th>\n      <td>Pelvis</td>\n      <td>SB</td>\n      <td>8</td>\n    </tr>\n    <tr>\n      <th>59</th>\n      <td>Pelvis</td>\n      <td>SH</td>\n      <td>7</td>\n    </tr>\n    <tr>\n      <th>60</th>\n      <td>Pelvis</td>\n      <td>SC</td>\n      <td>3</td>\n    </tr>\n    <tr>\n      <th>61</th>\n      <td>Pelvis</td>\n      <td>LFo</td>\n      <td>2</td>\n    </tr>\n    <tr>\n      <th>62</th>\n      <td>Radius</td>\n      <td>Bd</td>\n      <td>69</td>\n    </tr>\n    <tr>\n      <th>63</th>\n      <td>Radius</td>\n      <td>Bp</td>\n      <td>61</td>\n    </tr>\n    <tr>\n      <th>64</th>\n      <td>Radius</td>\n      <td>GL</td>\n      <td>56</td>\n    </tr>\n    <tr>\n      <th>65</th>\n      <td>Radius</td>\n      <td>BFd</td>\n      <td>53</td>\n    </tr>\n    <tr>\n      <th>66</th>\n      <td>Radius</td>\n      <td>BFp</td>\n      <td>50</td>\n    </tr>\n    <tr>\n      <th>67</th>\n      <td>Radius</td>\n      <td>SD</td>\n      <td>49</td>\n    </tr>\n    <tr>\n      <th>68</th>\n      <td>Radius</td>\n      <td>Ll</td>\n      <td>22</td>\n    </tr>\n    <tr>\n      <th>69</th>\n      <td>Radius</td>\n      <td>CD</td>\n      <td>7</td>\n    </tr>\n    <tr>\n      <th>70</th>\n      <td>Scapula</td>\n      <td>SLC</td>\n      <td>63</td>\n    </tr>\n    <tr>\n      <th>71</th>\n      <td>Scapula</td>\n      <td>BG</td>\n      <td>47</td>\n    </tr>\n    <tr>\n      <th>72</th>\n      <td>Scapula</td>\n      <td>LG</td>\n      <td>46</td>\n    </tr>\n    <tr>\n      <th>73</th>\n      <td>Scapula</td>\n      <td>GLP</td>\n      <td>42</td>\n    </tr>\n    <tr>\n      <th>74</th>\n      <td>Second phalanx</td>\n      <td>Bd</td>\n      <td>1</td>\n    </tr>\n    <tr>\n      <th>75</th>\n      <td>Second phalanx</td>\n      <td>Bp</td>\n      <td>1</td>\n    </tr>\n    <tr>\n      <th>76</th>\n      <td>Second phalanx</td>\n      <td>GL</td>\n      <td>1</td>\n    </tr>\n    <tr>\n      <th>77</th>\n      <td>Second phalanx</td>\n      <td>SD</td>\n      <td>1</td>\n    </tr>\n    <tr>\n      <th>78</th>\n      <td>Tibia</td>\n      <td>Bd</td>\n      <td>120</td>\n    </tr>\n    <tr>\n      <th>79</th>\n      <td>Tibia</td>\n      <td>Dd</td>\n      <td>79</td>\n    </tr>\n    <tr>\n      <th>80</th>\n      <td>Tibia</td>\n      <td>SD</td>\n      <td>48</td>\n    </tr>\n    <tr>\n      <th>81</th>\n      <td>Tibia</td>\n      <td>GL</td>\n      <td>42</td>\n    </tr>\n    <tr>\n      <th>82</th>\n      <td>Tibia</td>\n      <td>Bp</td>\n      <td>23</td>\n    </tr>\n    <tr>\n      <th>83</th>\n      <td>Tibia</td>\n      <td>Ll</td>\n      <td>17</td>\n    </tr>\n    <tr>\n      <th>84</th>\n      <td>Tibia</td>\n      <td>CD</td>\n      <td>6</td>\n    </tr>\n    <tr>\n      <th>85</th>\n      <td>Ulna</td>\n      <td>BPC</td>\n      <td>4</td>\n    </tr>\n    <tr>\n      <th>86</th>\n      <td>Ulna</td>\n      <td>DPA</td>\n      <td>4</td>\n    </tr>\n    <tr>\n      <th>87</th>\n      <td>Ulna</td>\n      <td>SDO</td>\n      <td>2</td>\n    </tr>\n  </tbody>\n</table>\n</div>"
     },
     "execution_count": 20,
     "metadata": {},
     "output_type": "execute_result"
    }
   ],
   "source": [
    "element_grp = df_horse.groupby(['ELEMENT'])\n",
    "df_element_meastype = element_grp['MEASTYPE'].value_counts().to_frame(name='COUNT').reset_index()\n",
    "df_element_meastype"
   ],
   "metadata": {
    "collapsed": false
   }
  },
  {
   "cell_type": "markdown",
   "source": [
    "Auf der Website des ABMAP gibt es eine Tabelle mit Erklärungen für jeden `MEASTYPE`-Code.\n",
    "Diese Tabelle speichern wir und fügen anschließend die entsprechenden Erklärungen für jede Dimensionen in die Tabelle ein, um eine bessere Übersicht zu bekommen, welche Dimensionen sich ggf. zusammenfassen lassen.\n",
    "Diesen Dataframe speichern wir als Tabelle ab, um ihn besser lesen zu können."
   ],
   "metadata": {
    "collapsed": false
   }
  },
  {
   "cell_type": "code",
   "execution_count": 21,
   "outputs": [],
   "source": [
    "df_meastypes = lw.load_csv(\"../data/csv/meastype.csv\")\n",
    "df_element_meastype['EXPLANATION'] = pd.Series(dtype='string')\n",
    "for code, explanation in zip(df_meastypes.Code, df_meastypes.Measurement):\n",
    "      filt = (df_element_meastype['MEASTYPE'] == code)\n",
    "      df_element_meastype.loc[filt, 'EXPLANATION'] = explanation\n",
    "\n",
    "#lw.save_csv(df_element_meastype, \"../data/csv/bone-elements-w-meastype.csv\")"
   ],
   "metadata": {
    "collapsed": false
   }
  },
  {
   "cell_type": "markdown",
   "source": [
    "Anscheinend ist das Zusammenfassen der Dimensionen aber nicht sinnvoll (s. Levine1981).\n",
    "Also suchen wir uns stattdessen für jeden Knochentyp die vier häufigsten Dimensionen heraus und werten diese statistisch aus, um anschließend einen Vergleich über die vier Zeitperioden ziehen zu können."
   ],
   "metadata": {
    "collapsed": false
   }
  },
  {
   "cell_type": "code",
   "execution_count": 22,
   "outputs": [],
   "source": [
    "relevant_bone_types = lw.load_json(\"../data/json/relevant-bone-types.json\")\n",
    "\n",
    "for bone_type in relevant_bone_types:\n",
    "      root = \"../data/csv/elements/\"\n",
    "      name = bone_type.lower().replace(\" \",\"-\")\n",
    "      df_element = lw.load_csv(root + name + \".csv\")\n",
    "      dimensions_dict = dataops.dimensions_dict(df_element.groupby('MEASTYPE'))\n",
    "\n",
    "      df_dimensions = pd.DataFrame(columns=['BONEID', 'MEASURE', 'MEASTYPE', 'PERIOD', 'RANGE'])\n",
    "\n",
    "      ''' now find the 4 most common meastypes '''\n",
    "      dimensions_dict = dataops.trim_dictionary(dimensions_dict, 4)\n",
    "      for dimension in dimensions_dict:\n",
    "            df_dimensions = pd.concat([df_dimensions, dimensions_dict[dimension][\"df\"]])\n",
    "\n",
    "      ''' then save those to csv for further processing '''\n",
    "      #lw.save_csv(df_dimensions, root + \"meastypes/\" + name + \"_meastypes.csv\")"
   ],
   "metadata": {
    "collapsed": false
   }
  }
 ],
 "metadata": {
  "kernelspec": {
   "display_name": "Python 3",
   "language": "python",
   "name": "python3"
  },
  "language_info": {
   "codemirror_mode": {
    "name": "ipython",
    "version": 2
   },
   "file_extension": ".py",
   "mimetype": "text/x-python",
   "name": "python",
   "nbconvert_exporter": "python",
   "pygments_lexer": "ipython2",
   "version": "2.7.6"
  }
 },
 "nbformat": 4,
 "nbformat_minor": 0
}
