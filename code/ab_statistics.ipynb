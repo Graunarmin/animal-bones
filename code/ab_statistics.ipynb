{
 "cells": [
  {
   "cell_type": "code",
   "execution_count": 1,
   "metadata": {
    "collapsed": true
   },
   "outputs": [
    {
     "name": "stdout",
     "output_type": "stream",
     "text": [
      "Wrote json to file\n",
      "Wrote json to file\n",
      "Wrote json to file\n",
      "Wrote json to file\n",
      "Wrote json to file\n",
      "Wrote json to file\n",
      "Wrote json to file\n",
      "Wrote json to file\n",
      "Wrote json to file\n",
      "Wrote json to file\n",
      "Wrote json to file\n"
     ]
    }
   ],
   "source": [
    "from utils import load_write as lw\n",
    "from utils import statistics as st\n",
    "import os\n",
    "\n",
    "directory = os.fsencode(\"../data/csv/elements/meastypes/\")\n",
    "\n",
    "for file in os.listdir(directory):\n",
    "    filename = os.fsdecode(file)\n",
    "    if filename.endswith(\"_meastypes.csv\"):\n",
    "        bone_type = filename.split(\"_\")[0]\n",
    "        df = lw.load_csv(\"../data/csv/elements/meastypes/\" + filename)\n",
    "        st.ttest(df, bone_type)"
   ]
  }
 ],
 "metadata": {
  "kernelspec": {
   "display_name": "Python 3",
   "language": "python",
   "name": "python3"
  },
  "language_info": {
   "codemirror_mode": {
    "name": "ipython",
    "version": 2
   },
   "file_extension": ".py",
   "mimetype": "text/x-python",
   "name": "python",
   "nbconvert_exporter": "python",
   "pygments_lexer": "ipython2",
   "version": "2.7.6"
  }
 },
 "nbformat": 4,
 "nbformat_minor": 0
}
