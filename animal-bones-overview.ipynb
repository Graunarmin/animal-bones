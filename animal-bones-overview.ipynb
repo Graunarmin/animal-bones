{
 "cells": [
  {
   "cell_type": "markdown",
   "source": [
    "# Testing"
   ],
   "metadata": {
    "collapsed": false
   }
  },
  {
   "cell_type": "code",
   "execution_count": null,
   "metadata": {
    "collapsed": true
   },
   "outputs": [],
   "source": [
    "import utils.load_write as lw\n",
    "\n",
    "df_horse = lw.load_csv(\"data/csv/abmap_horse.csv\")\n",
    "element_grp = df_horse.groupby(['ELEMENT'])\n",
    "bone_types = list(element_grp.groups.keys())"
   ]
  },
  {
   "cell_type": "code",
   "execution_count": null,
   "outputs": [],
   "source": [
    "df_element_meastype = element_grp['MEASTYPE'].value_counts().to_frame(name='COUNT').reset_index()\n",
    "df_element_meastype"
   ],
   "metadata": {
    "collapsed": false
   }
  },
  {
   "cell_type": "markdown",
   "source": [
    "Beispiel für deskriptive statistische Übersicht des Metatarsal Knochentyps"
   ],
   "metadata": {
    "collapsed": false
   }
  },
  {
   "cell_type": "code",
   "execution_count": null,
   "outputs": [],
   "source": [
    "df_metatarsal = lw.load_csv(\"data/csv/elements/metatarsal.csv\")\n",
    "df_grp = df_metatarsal.groupby(['MEASTYPE','PERIOD'])\n",
    "df_grp['MEASURE'].var()"
   ],
   "metadata": {
    "collapsed": false
   }
  },
  {
   "cell_type": "code",
   "execution_count": null,
   "outputs": [],
   "source": [
    "df_grp['MEASURE'].std()\n",
    "df_grp['MEASURE'].var()\n",
    "df_grp['MEASURE'].min()\n",
    "df_grp['MEASURE'].mean()\n",
    "df_grp['MEASURE'].median()\n",
    "df_grp['MEASURE'].max()"
   ],
   "metadata": {
    "collapsed": false
   }
  },
  {
   "cell_type": "markdown",
   "source": [],
   "metadata": {
    "collapsed": false
   }
  }
 ],
 "metadata": {
  "kernelspec": {
   "display_name": "Python 3",
   "language": "python",
   "name": "python3"
  },
  "language_info": {
   "codemirror_mode": {
    "name": "ipython",
    "version": 2
   },
   "file_extension": ".py",
   "mimetype": "text/x-python",
   "name": "python",
   "nbconvert_exporter": "python",
   "pygments_lexer": "ipython2",
   "version": "2.7.6"
  }
 },
 "nbformat": 4,
 "nbformat_minor": 0
}
