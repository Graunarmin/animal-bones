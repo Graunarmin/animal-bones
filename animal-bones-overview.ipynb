{
 "cells": [
  {
   "cell_type": "markdown",
   "source": [
    "# Animal Bones Overview\n",
    "Goal: Get a general sense of the data and which datapoints exist."
   ],
   "metadata": {
    "collapsed": false
   }
  },
  {
   "cell_type": "code",
   "execution_count": 5,
   "metadata": {
    "collapsed": true
   },
   "outputs": [
    {
     "name": "stdout",
     "output_type": "stream",
     "text": [
      "Es liegen 3099 Maße von insgesamt 1038 Knochen vor.\n",
      "Jeder Datenpunkt hat 17 Attribute:\n",
      "Index(['BONEID', 'MEASURE', 'MEASTYPE', 'SPECIES', 'ELEMENT', 'SIDE',\n",
      "       'COMMENTS', 'CONTEXT', 'PERIOD', 'CDATE', 'RANGE', 'PHASE', 'SITECODE',\n",
      "       'SITE', 'COUNTY', 'GRIDREF', 'REFERENCE'],\n",
      "      dtype='object')\n"
     ]
    }
   ],
   "source": [
    "import utils.load_write as lw\n",
    "import utils.datastructure_operations as dataops\n",
    "\n",
    "df_horse = lw.load_csv(\"data/csv/abmap_horse.csv\")\n",
    "measures_per_bone = dataops.count_amounts_in_column(df_horse, \"BONEID\")\n",
    "\n",
    "print(\"Es liegen\", len(df_horse.index) , \"Maße von insgesamt\", len(measures_per_bone), \"Knochen vor.\")\n",
    "print(\"Jeder Datenpunkt hat\", len(df_horse.columns), \"Attribute:\")\n",
    "dataops.pretty_print(df_horse.columns)"
   ]
  },
  {
   "cell_type": "code",
   "execution_count": 2,
   "outputs": [],
   "source": [
    "#df_horse.describe()"
   ],
   "metadata": {
    "collapsed": false
   }
  },
  {
   "cell_type": "markdown",
   "source": [
    "The next step would be a linechart of the size (y) per bone type over the time (x)"
   ],
   "metadata": {
    "collapsed": false
   }
  },
  {
   "cell_type": "markdown",
   "source": [],
   "metadata": {
    "collapsed": false
   }
  }
 ],
 "metadata": {
  "kernelspec": {
   "display_name": "Python 3",
   "language": "python",
   "name": "python3"
  },
  "language_info": {
   "codemirror_mode": {
    "name": "ipython",
    "version": 2
   },
   "file_extension": ".py",
   "mimetype": "text/x-python",
   "name": "python",
   "nbconvert_exporter": "python",
   "pygments_lexer": "ipython2",
   "version": "2.7.6"
  }
 },
 "nbformat": 4,
 "nbformat_minor": 0
}
